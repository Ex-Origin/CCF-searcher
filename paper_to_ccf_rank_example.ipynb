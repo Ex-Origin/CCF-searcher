{
 "cells": [
  {
   "cell_type": "code",
   "execution_count": null,
   "id": "aa1f39cd-bbd8-46e0-b4d4-6f28bef693ca",
   "metadata": {
    "tags": []
   },
   "outputs": [],
   "source": [
    "import json\n",
    "import pandas as pd\n",
    "paper_lists = json.loads(open('dblp_crawler_output.json', 'r').read())\n",
    "df = pd.DataFrame(paper_lists, columns=[\"year\", \"title\", \"doi\", \"authors\", \"ccf_rank\", \"abbreviation\", \"ccf_name\", \"full_name\", \"publisher\"])\n",
    "df"
   ]
  },
  {
   "cell_type": "code",
   "execution_count": null,
   "id": "2ac5e20c-57ed-4528-b038-ac78aa9fd25c",
   "metadata": {
    "tags": []
   },
   "outputs": [],
   "source": [
    "def hash(s):\n",
    "    s = s.lower()\n",
    "    r = ''\n",
    "    for v in s:\n",
    "        if(v >= 'a' and v <= 'z'):\n",
    "            r += v\n",
    "    return r"
   ]
  },
  {
   "cell_type": "code",
   "execution_count": null,
   "id": "88ea852b-3f35-4f8a-97b4-762a1487edf2",
   "metadata": {
    "tags": []
   },
   "outputs": [],
   "source": [
    "title_list = df['title'].values.tolist()\n",
    "hash_list = []\n",
    "for i in range(len(title_list)):\n",
    "    hash_list += [hash(title_list[i])]\n",
    "df['hash'] = hash_list\n",
    "df"
   ]
  },
  {
   "cell_type": "code",
   "execution_count": null,
   "id": "39fc64f3-a947-4e35-a3cd-119186466f32",
   "metadata": {
    "tags": []
   },
   "outputs": [],
   "source": [
    "def search(s):\n",
    "    display(df[df['hash'] == hash(s)][[\"ccf_rank\", \"ccf_name\", \"year\", \"title\", \"doi\"]].style)"
   ]
  },
  {
   "cell_type": "code",
   "execution_count": null,
   "id": "5863099a-485d-48ea-a227-2b3ad3f5eba4",
   "metadata": {
    "tags": []
   },
   "outputs": [],
   "source": [
    "search('Adversarial Policy Training against Deep Reinforcement Learning')"
   ]
  }
 ],
 "metadata": {
  "kernelspec": {
   "display_name": "Python 3 (ipykernel)",
   "language": "python",
   "name": "python3"
  },
  "language_info": {
   "codemirror_mode": {
    "name": "ipython",
    "version": 3
   },
   "file_extension": ".py",
   "mimetype": "text/x-python",
   "name": "python",
   "nbconvert_exporter": "python",
   "pygments_lexer": "ipython3",
   "version": "3.8.10"
  }
 },
 "nbformat": 4,
 "nbformat_minor": 5
}
