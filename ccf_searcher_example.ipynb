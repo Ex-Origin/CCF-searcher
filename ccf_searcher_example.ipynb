{
 "cells": [
  {
   "cell_type": "code",
   "execution_count": null,
   "id": "816ab46b-f0be-47c7-8094-a1878ac36429",
   "metadata": {
    "tags": []
   },
   "outputs": [],
   "source": [
    "import pandas as pd\n",
    "df = pd.read_csv('dblp_crawler_output.csv').sort_values(['ccf-rank', 'year'], ascending=[True, False])\n",
    "df"
   ]
  },
  {
   "cell_type": "code",
   "execution_count": null,
   "id": "573a2845-75a1-40de-bc49-d751ab4e0dfb",
   "metadata": {
    "tags": []
   },
   "outputs": [],
   "source": [
    "# ------------- Paper Quality -------------\n",
    "df2 = df[(df['year'] >= 2019) | (df[\"year\"] == -1)]\n",
    "df2 = df2[(df2['ccf-rank'].str.contains('CCF-A|CCF-B', case=False))]\n",
    "# ------------- Field         -------------\n",
    "df2 = df2[(df2['title'].str.contains('reinforcement|multi-armed', case=False))]\n",
    "# ------------- Direction     -------------\n",
    "df2 = df2[(df2['title'].str.contains('adversarial', case=False))]\n",
    "# ------------- Conference / Journal   -------------\n",
    "df2 = df2[(df2['ccf-name'].str.contains('USENIX|AAAI', case=False))]\n",
    "\n",
    "df2 = df2.sort_values(['ccf-rank', 'year', 'abbreviation'], ascending=[True, False, False])\n",
    "df3 = df2[[\"ccf-rank\", \"ccf-name\", \"year\", \"title\", \"authors\"]].copy() # Show\n",
    "df3.authors = df3['authors'].str[:32]\n",
    "print('Count: ', len(df3))\n",
    "display(df3.head(20).style)\n",
    "display(pd.DataFrame(df2.groupby(['ccf-rank', 'ccf-name']).size().sort_values(ascending=False)).style)"
   ]
  },
  {
   "cell_type": "code",
   "execution_count": null,
   "id": "181b835a-7868-4e7b-88f5-08f9a8fc82ee",
   "metadata": {},
   "outputs": [],
   "source": [
    "# ------------- Conference / Journal   -------------\n",
    "df3 = df2[(df2['ccf-name'].str.contains('International Conference on Software Engineering', case=False))]\n",
    "\n",
    "df3 = df3[[\"ccf-rank\", \"abbreviation\", \"year\", \"title\", \"authors\"]].copy() # Show\n",
    "df3.authors = df3['authors'].str[:32]\n",
    "print('Count: ', len(df3))\n",
    "display(df3.head(20).style)"
   ]
  }
 ],
 "metadata": {
  "kernelspec": {
   "display_name": "Python 3 (ipykernel)",
   "language": "python",
   "name": "python3"
  },
  "language_info": {
   "codemirror_mode": {
    "name": "ipython",
    "version": 3
   },
   "file_extension": ".py",
   "mimetype": "text/x-python",
   "name": "python",
   "nbconvert_exporter": "python",
   "pygments_lexer": "ipython3",
   "version": "3.11.2"
  }
 },
 "nbformat": 4,
 "nbformat_minor": 5
}
