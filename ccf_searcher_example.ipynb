{
 "cells": [
  {
   "cell_type": "code",
   "execution_count": null,
   "id": "1e59d5bd-e2a5-43d7-b97a-d3ea68c93998",
   "metadata": {
    "tags": []
   },
   "outputs": [],
   "source": [
    "import json\n",
    "paper_lists = json.loads(open('dblp_crawler_output.json', 'r').read())"
   ]
  },
  {
   "cell_type": "code",
   "execution_count": null,
   "id": "816ab46b-f0be-47c7-8094-a1878ac36429",
   "metadata": {
    "tags": []
   },
   "outputs": [],
   "source": [
    "import pandas as pd\n",
    "df = pd.DataFrame(paper_lists, columns=[\"year\", \"title\", \"doi\", \"authors\", \"ccf_rank\", \"abbreviation\", \"ccf_name\", \"full_name\", \"publisher\"])\\\n",
    "    .sort_values(['ccf_rank', 'year'], ascending=[True, False])\n",
    "df"
   ]
  },
  {
   "cell_type": "code",
   "execution_count": null,
   "id": "573a2845-75a1-40de-bc49-d751ab4e0dfb",
   "metadata": {
    "tags": []
   },
   "outputs": [],
   "source": [
    "# ------------- Paper Quality -------------\n",
    "df2 = df[(df['year'] >= 2019) | (df[\"year\"] == -1)]\n",
    "df2 = df2[(df2['ccf_rank'].str.contains('CCF-A|CCF-B', case=False))]\n",
    "# ------------- Field         -------------\n",
    "df2 = df2[(df2['title'].str.contains('reinforcement|multi-armed', case=False))]\n",
    "# ------------- Direction     -------------\n",
    "df2 = df2[(df2['title'].str.contains('adversarial', case=False))]\n",
    "# ------------- Conference / Journal   -------------\n",
    "df2 = df2[(df2['ccf_name'].str.contains('USENIX|AAAI', case=False))]\n",
    "\n",
    "df2 = df2.sort_values(['ccf_rank', 'year', 'abbreviation'], ascending=[True, False, False])\n",
    "df3 = df2[[\"ccf_rank\", \"ccf_name\", \"year\", \"title\", \"authors\"]].copy() # Show\n",
    "df3.authors = df3['authors'].str[:32]\n",
    "print('Count: ', len(df3))\n",
    "display(df3.head(20).style)\n",
    "display(pd.DataFrame(df2.groupby(['ccf_rank', 'ccf_name']).size().sort_values(ascending=False)).style)"
   ]
  },
  {
   "cell_type": "code",
   "execution_count": null,
   "id": "181b835a-7868-4e7b-88f5-08f9a8fc82ee",
   "metadata": {},
   "outputs": [],
   "source": [
    "# ------------- Conference / Journal   -------------\n",
    "df3 = df2[(df2['ccf_name'].str.contains('International Conference on Software Engineering', case=False))]\n",
    "\n",
    "df3 = df3[[\"ccf_rank\", \"abbreviation\", \"year\", \"title\", \"authors\"]].copy() # Show\n",
    "df3.authors = df3['authors'].str[:32]\n",
    "print('Count: ', len(df3))\n",
    "display(df3.head(20).style)"
   ]
  },
  {
   "cell_type": "code",
   "execution_count": null,
   "id": "ab90e271-56cd-4d79-bb30-c78f101439bb",
   "metadata": {
    "tags": []
   },
   "outputs": [],
   "source": [
    "open('abstract_crawler_input.json', 'w').write(json.dumps(df2.to_numpy().tolist()))"
   ]
  },
  {
   "cell_type": "code",
   "execution_count": null,
   "id": "869ac2fd-36b9-4f08-8cc8-ad2783d8e6a2",
   "metadata": {
    "tags": []
   },
   "outputs": [],
   "source": [
    "target_df = df2.drop(index=[])\n",
    "output  = '\\n'\n",
    "for cla in target_df['ccf_rank'].unique():\n",
    "    class_item = target_df[target_df['ccf_rank'] == cla]\n",
    "    output += '## %s (%d)\\n' % (cla, len(class_item))\n",
    "    for abbr in class_item.groupby('ccf_name').size().sort_values(ascending=False).index:\n",
    "        item = class_item[class_item['ccf_name'] == abbr]\n",
    "        output += '### %s (%d)\\n' % (abbr, len(item))\n",
    "        for i in range(len(item)):\n",
    "            output += '%d. %d, [%s](%s)\\n' % (i+1, item.iloc[i]['year'], item.iloc[i]['title'], item.iloc[i]['doi'])\n",
    "open('list_output.md', 'w').write(output)"
   ]
  },
  {
   "cell_type": "code",
   "execution_count": null,
   "id": "f91948c1",
   "metadata": {},
   "outputs": [],
   "source": [
    "# ------------- Year -------------\n",
    "df2 = df[(df['year'] >= 2019) | (df[\"year\"] == -1)]\n",
    "# ------------- Conference / Journal   -------------\n",
    "df2 = df2[ False \n",
    "    | (df2['ccf_name'] == 'IEEE International Conference on Computer Communications' )\n",
    "    | (df2['ccf_name'] == 'IEEE Transactions on Information Forensics and Security' )\n",
    "]\n",
    "df2"
   ]
  },
  {
   "cell_type": "code",
   "execution_count": null,
   "id": "a06c6b79",
   "metadata": {},
   "outputs": [],
   "source": [
    "open('abstract_crawler_input.json', 'w').write(json.dumps(df2.to_numpy().tolist()))"
   ]
  }
 ],
 "metadata": {
  "kernelspec": {
   "display_name": "Python 3 (ipykernel)",
   "language": "python",
   "name": "python3"
  },
  "language_info": {
   "codemirror_mode": {
    "name": "ipython",
    "version": 3
   },
   "file_extension": ".py",
   "mimetype": "text/x-python",
   "name": "python",
   "nbconvert_exporter": "python",
   "pygments_lexer": "ipython3",
   "version": "3.8.10"
  }
 },
 "nbformat": 4,
 "nbformat_minor": 5
}
