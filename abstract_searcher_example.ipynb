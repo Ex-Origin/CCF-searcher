{
 "cells": [
  {
   "cell_type": "code",
   "execution_count": null,
   "id": "023e6fe2-a19f-4b85-aef1-eb8f4299cb13",
   "metadata": {
    "tags": []
   },
   "outputs": [],
   "source": [
    "import json\n",
    "paper_lists = json.loads(open('abstract_crawler_output.json', 'r').read())"
   ]
  },
  {
   "cell_type": "code",
   "execution_count": null,
   "id": "774c3dc6-e6fd-4839-bcb3-5834bf55aedd",
   "metadata": {
    "tags": []
   },
   "outputs": [],
   "source": [
    "import pandas as pd\n",
    "df = pd.DataFrame(paper_lists, columns=[\"year\", \"title\", \"doi\", \"authors\", \"ccf_rank\", \"abbreviation\", \"ccf_name\", \"full_name\", \"publisher\", \"abstract\"])\\\n",
    "    .sort_values(['ccf_rank', 'year'], ascending=[True, False])\n",
    "df"
   ]
  },
  {
   "cell_type": "code",
   "execution_count": null,
   "id": "e6b27e5e-f297-414f-bc94-d97492a67b6e",
   "metadata": {
    "tags": []
   },
   "outputs": [],
   "source": [
    "# ------------- Paper Quality -------------\n",
    "df2 = df[(df['year'] >= 2019) | (df[\"year\"] == -1)]\n",
    "df2 = df2[(df2['ccf_rank'].str.contains('CCF-A|CCF-B', case=False))]\n",
    "# ------------- Field         -------------\n",
    "df2 = df2[(df2['title'].str.contains('', case=False))]\n",
    "df2 = df2[(df2['abstract'].str.contains('reinforcement|multi-armed', case=False))]\n",
    "# ------------- Direction     -------------\n",
    "df2 = df2[(df2['title'].str.contains('', case=False))]\n",
    "df2 = df2[(df2['abstract'].str.contains('adversarial', case=False))]\n",
    "# ------------- Conference / Journal   -------------\n",
    "df2 = df2[(df2['ccf_name'].str.contains('', case=False))]\n",
    "\n",
    "df2 = df2.sort_values(['ccf_rank', 'year', 'abbreviation'], ascending=[True, False, False])\n",
    "df3 = df2[[\"ccf_rank\", \"ccf_name\", \"year\", \"title\", \"authors\", \"abstract\"]].copy() # Show\n",
    "df3.authors = df3['authors'].str[:32]\n",
    "print('Count: ', len(df3))\n",
    "display(df3.head(20).style)\n",
    "display(pd.DataFrame(df2.groupby(['ccf_rank', 'ccf_name']).size().sort_values(ascending=False)).style)"
   ]
  },
  {
   "cell_type": "code",
   "execution_count": null,
   "id": "b1d48f0b-2e09-4bfe-afb2-f01122da1ff0",
   "metadata": {
    "tags": []
   },
   "outputs": [],
   "source": [
    "target_df = df2.drop(index=[])\n",
    "output = '\\n'\n",
    "for cla in target_df['ccf_rank'].unique():\n",
    "    class_item = target_df[target_df['ccf_rank'] == cla]\n",
    "    output += '## %s (%d)\\n' % (cla, len(class_item))\n",
    "    for v in class_item.groupby('ccf_name').size().sort_values(ascending=False).index:\n",
    "        item = class_item[class_item['ccf_name'] == v]\n",
    "        output += '### %s (%d)\\n\\n' % (v, len(item))\n",
    "        for i in range(len(item)):\n",
    "            output += '%d. **[%s](%s)**\\n\\n' % (i + 1, item.iloc[i].title, item.iloc[i].doi)\n",
    "            output += '    **Authors**: %s\\n\\n' % (item.iloc[i].authors)\n",
    "            output += '    **Year**: %d\\n\\n' % (item.iloc[i].year)\n",
    "            output += '    **Abstract**:\\n\\n'\n",
    "            output += '    %s\\n\\n' % (item.iloc[i].abstract.replace('\\n', '\\n\\n    '))\n",
    "open('abstract_output.md', 'w').write(output)"
   ]
  }
 ],
 "metadata": {
  "kernelspec": {
   "display_name": "Python 3 (ipykernel)",
   "language": "python",
   "name": "python3"
  },
  "language_info": {
   "codemirror_mode": {
    "name": "ipython",
    "version": 3
   },
   "file_extension": ".py",
   "mimetype": "text/x-python",
   "name": "python",
   "nbconvert_exporter": "python",
   "pygments_lexer": "ipython3",
   "version": "3.8.10"
  }
 },
 "nbformat": 4,
 "nbformat_minor": 5
}
